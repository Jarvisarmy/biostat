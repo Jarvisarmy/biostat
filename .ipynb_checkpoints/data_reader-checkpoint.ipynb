{
 "cells": [
  {
   "cell_type": "markdown",
   "id": "c62683d9",
   "metadata": {},
   "source": [
    "* NCBI的protein 数据库是一个non-redundant protein database,包含翻译自核算数据库(GenBank, RefSeq, TPA)注释的编码区的蛋白序列，以及来自SwissProt, PIR, PRF和PDB等数据库的数据信息\n",
    "    * https://link.zhihu.com/?target=https%3A//www.ncbi.nlm.nih.gov/protein\n",
    "\n",
    "* NR其特点是内容全面，注释结果同时包含物种信息，可以作为物种分类时的参考，缺点是并不是所有的功能描述都特别准，数据未经过验证，可靠性有待提高\n",
    "    * https://link.zhihu.com/?target=ftp%3A//ftp.ncbi.nlm.nih.gov/blast/db/\n",
    "\n",
    "* UniProt,意为信息最丰富，资源最广的蛋白质数据库，它由整合Swiss-Prot, TrEMBL和PIR-PSD三大数据库的数据而成，目前包含UniProtKB(有Swiss-Prot和TrEMBL两个库) UniRef, UniParc等几个部分\n",
    "    * https://link.zhihu.com/?target=http%3A//www.uniprot.org/\n",
    "    * Swiss-Prot数据库是UniProt Knowledgebase (UniprotKB) 中的手工注释和审查验证的部分数据库，是一个精选的高质量的，带手工注释和非冗余蛋白质序列数据库，缺点为存在一个滞后问题，即把EMBL的翻译成蛋白质序列并惊醒注释需要时间\n",
    "    * TrEMBL是一个自动数据库，该数据包含高质量的计算分析结果，一般都在自动注释中富集，主要应对基因组项目获得的大量数据流以人工校验在时间上和人力上的不足，一缺点为冗余度高，可信度较低\n",
    "    * UniParc (UniProt Archive) ,是一个综合性的非冗余数据库，包含了所有主要的，公开的数据库的蛋白质序列\n",
    "    * 其他还有一些功能组学分析的数据库，这些数据库的优点在于他们的功能信息备份好的分类整理，序列都被聚类，因此序列有代表性。假如知道蛋白质的KO或者NOG，可以去KEGG数据库或者eggNOG数据库下载序列"
   ]
  },
  {
   "cell_type": "markdown",
   "id": "38d165ff",
   "metadata": {},
   "source": [
    "# Uniprot (Universal Protein)\n",
    "https://www.uniprot.org/\n",
    "\n",
    "https://zhuanlan.zhihu.com/p/108602863\n",
    "* 是包含蛋白质序列，功能信息，研究论文索引的蛋白质数据库，整合了包括EBI(European Bioinformatics Institute),SIB(the Swiss Institute of Bioinformatics), PIR(Protein Information Resource)三大数据库的资源。\n",
    "    * EBI (European Bioinformatics Institute): 欧洲生物信息学研究所(EMBL-EBI)是欧洲生命科学旗舰实验室EMBL的一部分。位于英国，是世界上基因组学领域最强地带之一。\n",
    "    * SIB (the Swiss Institute of Bioinformatics): 瑞士日内瓦的SIB维护这ExPASy(专家蛋白质分析系统)服务器，这里包含有蛋白质组学工具和数据库的主要资源\n",
    "    * PIR (Protein Information Resource): PIR由美国国家生物医学研究基金会(NBRF)于1984年成立，旨在协助研究人员识别和解释蛋白质序列信息。\n",
    "* UniProt主要由以下子库构成\n",
    "    * UniProtKB/Swiss-Prot | Protein knowledgebase (review) | 高质量的，手工注释的，非冗余的数据库\n",
    "    * UniProtKB/TrEMBL | Protein knowledgebase (unreview) | 自动翻译蛋白质序列，预测序列，未验证的数据库\n",
    "    * UniParc | Sequence | 非冗余蛋白质序列数据库\n",
    "    * UniRef | Sequence clusters | 聚类序列减小数据库，加快搜索的速度\n",
    "    * Proteomes | Protein sets from fully sequenced genomes | 为全测序基因组物种提供蛋白质组信息\n",
    "* 他们的关系\n",
    "    * 通过EMBL, GenBank, DDBJ等公共数据库得到原始数据，处理后存入UniParc的非冗余蛋白质序列数据库。UniParc作为数据仓库，再分别给UniProtKB, Proteomes, UNIRef提供可靠的数据集。其中在UniProtKB数据库中Swiss-Prot是由TrEMBL经过手动注释后得到的高质量非冗余数据库，也是我们今后常用的蛋白质数据库之一。\n"
   ]
  },
  {
   "cell_type": "markdown",
   "id": "302fcf2a",
   "metadata": {},
   "source": [
    "# 将SwissProt数据转成txt file"
   ]
  },
  {
   "cell_type": "code",
   "execution_count": 5,
   "id": "26cf6437",
   "metadata": {},
   "outputs": [
    {
     "name": "stderr",
     "output_type": "stream",
     "text": [
      "C:\\Users\\15197\\anaconda3\\lib\\site-packages\\openpyxl\\styles\\stylesheet.py:226: UserWarning: Workbook contains no default style, apply openpyxl's default\n",
      "  warn(\"Workbook contains no default style, apply openpyxl's default\")\n"
     ]
    }
   ],
   "source": [
    "import pandas as pd\n",
    "data = pd.read_excel('data/SwissProt.xlsx',index_col=0)"
   ]
  },
  {
   "cell_type": "code",
   "execution_count": 18,
   "id": "3854d57c",
   "metadata": {},
   "outputs": [],
   "source": [
    "import numpy as np\n",
    "np.savetxt('data/SwissProt.txt',data.Sequence, fmt=\"%s\")"
   ]
  },
  {
   "cell_type": "code",
   "execution_count": 20,
   "id": "b167607c",
   "metadata": {},
   "outputs": [],
   "source": [
    "def xlsx2txt(inpath,outpath):\n",
    "    data = pd.read_excel(inpath,index_col=0)\n",
    "    np.savetxt(outpath,data.Sequence, fmt=\"%s\")"
   ]
  },
  {
   "cell_type": "code",
   "execution_count": 21,
   "id": "ff1ff001",
   "metadata": {},
   "outputs": [
    {
     "name": "stderr",
     "output_type": "stream",
     "text": [
      "C:\\Users\\15197\\anaconda3\\lib\\site-packages\\openpyxl\\styles\\stylesheet.py:226: UserWarning: Workbook contains no default style, apply openpyxl's default\n",
      "  warn(\"Workbook contains no default style, apply openpyxl's default\")\n"
     ]
    }
   ],
   "source": [
    "xlsx2txt('data/TrEMBL_Human.xlsx', 'data/TrEMBL_Human.txt')"
   ]
  },
  {
   "cell_type": "code",
   "execution_count": 22,
   "id": "483bd3b2",
   "metadata": {},
   "outputs": [],
   "source": [
    "xlsx2txt('data/TrEMBL_Rice.xlsx', 'data/TrEMBL_Rice.txt')"
   ]
  },
  {
   "cell_type": "code",
   "execution_count": 23,
   "id": "eebedac1",
   "metadata": {},
   "outputs": [],
   "source": [
    "xlsx2txt('data/TrEMBL_Athaliana.xlsx', 'data/TrEMBL_Athailana.txt')"
   ]
  },
  {
   "cell_type": "code",
   "execution_count": 24,
   "id": "9956f5c8",
   "metadata": {},
   "outputs": [],
   "source": [
    "xlsx2txt('data/TrEMBL_Mouse.xlsx', 'data/TrEMBL_Mouse.txt')"
   ]
  },
  {
   "cell_type": "code",
   "execution_count": 25,
   "id": "2918c50e",
   "metadata": {},
   "outputs": [],
   "source": [
    "xlsx2txt('data/TrEMBL_Zebrafish.xlsx', 'data/TrEMBL_Zebrafish.txt')"
   ]
  },
  {
   "cell_type": "code",
   "execution_count": null,
   "id": "02060d73",
   "metadata": {},
   "outputs": [],
   "source": []
  }
 ],
 "metadata": {
  "kernelspec": {
   "display_name": "Python 3 (ipykernel)",
   "language": "python",
   "name": "python3"
  },
  "language_info": {
   "codemirror_mode": {
    "name": "ipython",
    "version": 3
   },
   "file_extension": ".py",
   "mimetype": "text/x-python",
   "name": "python",
   "nbconvert_exporter": "python",
   "pygments_lexer": "ipython3",
   "version": "3.9.7"
  }
 },
 "nbformat": 4,
 "nbformat_minor": 5
}
